{
 "cells": [
  {
   "cell_type": "code",
   "execution_count": 38,
   "metadata": {},
   "outputs": [],
   "source": [
    "import tensorflow as tf\n",
    "from tensorflow import keras\n",
    "import numpy as np\n",
    "import matplotlib.pyplot as plt"
   ]
  },
  {
   "cell_type": "code",
   "execution_count": 39,
   "metadata": {},
   "outputs": [],
   "source": [
    "mnist = keras.datasets.mnist"
   ]
  },
  {
   "cell_type": "code",
   "execution_count": 40,
   "metadata": {},
   "outputs": [],
   "source": [
    "(x_train, y_train), (x_test, y_test) = mnist.load_data()"
   ]
  },
  {
   "cell_type": "code",
   "execution_count": 41,
   "metadata": {},
   "outputs": [
    {
     "name": "stdout",
     "output_type": "stream",
     "text": [
      "(60000, 28, 28) (60000,)\n"
     ]
    }
   ],
   "source": [
    "print(x_train.shape, y_train.shape)"
   ]
  },
  {
   "cell_type": "code",
   "execution_count": 42,
   "metadata": {},
   "outputs": [
    {
     "name": "stdout",
     "output_type": "stream",
     "text": [
      "<class 'numpy.ndarray'> <class 'numpy.ndarray'>\n"
     ]
    }
   ],
   "source": [
    "print(type(x_train), type(y_train))"
   ]
  },
  {
   "cell_type": "code",
   "execution_count": 43,
   "metadata": {},
   "outputs": [],
   "source": [
    "#normalize 0-255 --> 0-1\n",
    "x_train, x_test = x_train/255, x_test/255"
   ]
  },
  {
   "cell_type": "code",
   "execution_count": 44,
   "metadata": {},
   "outputs": [
    {
     "data": {
      "image/png": "[encoded data removed]",
      "text/plain": [
       "<Figure size 576x576 with 12 Axes>"
      ]
     },
     "metadata": {
      "needs_background": "light"
     },
     "output_type": "display_data"
    }
   ],
   "source": [
    "plt.figure(figsize=(8,8))\n",
    "for i in range(12):\n",
    "    plt.subplot(3,4,i+1)\n",
    "    plt.imshow(x_train[i], cmap=\"gray\")\n",
    "plt.show()"
   ]
  },
  {
   "cell_type": "code",
   "execution_count": 45,
   "metadata": {},
   "outputs": [
    {
     "name": "stdout",
     "output_type": "stream",
     "text": [
      "Model: \"sequential_7\"\n",
      "_________________________________________________________________\n",
      "Layer (type)                 Output Shape              Param #   \n",
      "=================================================================\n",
      "flatten_6 (Flatten)          (None, 784)               0         \n",
      "_________________________________________________________________\n",
      "dense_12 (Dense)             (None, 128)               100480    \n",
      "_________________________________________________________________\n",
      "dense_13 (Dense)             (None, 10)                1290      \n",
      "=================================================================\n",
      "Total params: 101,770\n",
      "Trainable params: 101,770\n",
      "Non-trainable params: 0\n",
      "_________________________________________________________________\n",
      "None\n"
     ]
    }
   ],
   "source": [
    "#model\n",
    "model = keras.models.Sequential([\n",
    "    keras.layers.Flatten(input_shape=(28,28)),\n",
    "    keras.layers.Dense(128, activation=\"relu\"),\n",
    "    keras.layers.Dense(10)\n",
    "])\n",
    "print(model.summary())"
   ]
  },
  {
   "cell_type": "code",
   "execution_count": 46,
   "metadata": {},
   "outputs": [],
   "source": [
    "# another way to build the Sequential model:\n",
    "#modelx = keras.models.Sequential()\n",
    "#modelx.add(keras.layers.Flatten(input_shape=(28,28)))\n",
    "#modelx.add(keras.layers.Dense(128, activation='relu'))\n",
    "#modelx.add(keras.layers.Dense(10))"
   ]
  },
  {
   "cell_type": "code",
   "execution_count": 49,
   "metadata": {},
   "outputs": [],
   "source": [
    "# loss and optimizer\n",
    "loss = keras.losses.SparseCategoricalCrossentropy(from_logits=True)\n",
    "optim = keras.optimizers.Adam(lr=0.001)\n",
    "metrics = [\"accuracy\"]\n",
    "model.compile(loss=loss, optimizer=optim, metrics=metrics)"
   ]
  },
  {
   "cell_type": "code",
   "execution_count": 58,
   "metadata": {},
   "outputs": [
    {
     "name": "stdout",
     "output_type": "stream",
     "text": [
      "Epoch 1/20\n",
      "938/938 - 2s - loss: 0.0083 - accuracy: 0.9978\n",
      "Epoch 2/20\n",
      "938/938 - 2s - loss: 0.0079 - accuracy: 0.9977\n",
      "Epoch 3/20\n",
      "938/938 - 2s - loss: 0.0057 - accuracy: 0.9987\n",
      "Epoch 4/20\n",
      "938/938 - 2s - loss: 0.0054 - accuracy: 0.9987\n",
      "Epoch 5/20\n",
      "938/938 - 2s - loss: 0.0029 - accuracy: 0.9995\n",
      "Epoch 6/20\n",
      "938/938 - 2s - loss: 0.0074 - accuracy: 0.9978\n",
      "Epoch 7/20\n",
      "938/938 - 2s - loss: 0.0044 - accuracy: 0.9987\n",
      "Epoch 8/20\n",
      "938/938 - 2s - loss: 0.0046 - accuracy: 0.9986\n",
      "Epoch 9/20\n",
      "938/938 - 2s - loss: 0.0016 - accuracy: 0.9998\n",
      "Epoch 10/20\n",
      "938/938 - 2s - loss: 0.0058 - accuracy: 0.9982\n",
      "Epoch 11/20\n",
      "938/938 - 2s - loss: 0.0037 - accuracy: 0.9991\n",
      "Epoch 12/20\n",
      "938/938 - 2s - loss: 0.0013 - accuracy: 0.9998\n",
      "Epoch 13/20\n",
      "938/938 - 2s - loss: 0.0030 - accuracy: 0.9993\n",
      "Epoch 14/20\n",
      "938/938 - 2s - loss: 0.0060 - accuracy: 0.9980\n",
      "Epoch 15/20\n",
      "938/938 - 2s - loss: 0.0018 - accuracy: 0.9997\n",
      "Epoch 16/20\n",
      "938/938 - 2s - loss: 6.0902e-04 - accuracy: 0.9999\n",
      "Epoch 17/20\n",
      "938/938 - 2s - loss: 3.6922e-04 - accuracy: 1.0000\n",
      "Epoch 18/20\n",
      "938/938 - 2s - loss: 0.0013 - accuracy: 0.9997\n",
      "Epoch 19/20\n",
      "938/938 - 2s - loss: 0.0090 - accuracy: 0.9970\n",
      "Epoch 20/20\n",
      "938/938 - 2s - loss: 0.0014 - accuracy: 0.9998\n"
     ]
    },
    {
     "data": {
      "text/plain": [
       "<tensorflow.python.keras.callbacks.History at 0x1ba7735e188>"
      ]
     },
     "execution_count": 58,
     "metadata": {},
     "output_type": "execute_result"
    }
   ],
   "source": [
    "# training\n",
    "batch_size = 64\n",
    "epochs = 20\n",
    "model.fit(x_train, y_train, batch_size=batch_size, epochs=epochs, shuffle=True, verbose=2)"
   ]
  },
  {
   "cell_type": "code",
   "execution_count": 59,
   "metadata": {},
   "outputs": [
    {
     "name": "stdout",
     "output_type": "stream",
     "text": [
      "157/157 - 0s - loss: 0.0934 - accuracy: 0.9813\n"
     ]
    },
    {
     "data": {
      "text/plain": [
       "[0.09344058483839035, 0.9812999963760376]"
      ]
     },
     "execution_count": 59,
     "metadata": {},
     "output_type": "execute_result"
    }
   ],
   "source": [
    "# evaulate\n",
    "model.evaluate(x_test, y_test, batch_size=batch_size, verbose=2)"
   ]
  },
  {
   "cell_type": "code",
   "execution_count": 62,
   "metadata": {},
   "outputs": [
    {
     "name": "stdout",
     "output_type": "stream",
     "text": [
      "tf.Tensor(\n",
      "[2.3280592e-16 1.1123754e-17 9.9803932e-12 1.7976810e-09 6.4784620e-25\n",
      " 6.4955669e-16 4.3372066e-25 1.0000000e+00 1.8298278e-14 6.8953992e-12], shape=(10,), dtype=float32)\n"
     ]
    }
   ],
   "source": [
    "# predictions\n",
    "# 1. option: build new model with Softmax layer\n",
    "probability_model = keras.models.Sequential([\n",
    "    model,\n",
    "    keras.layers.Softmax()\n",
    "])\n",
    "\n",
    "predictions = probability_model(x_test)\n",
    "pred0 = predictions[0]\n",
    "print(pred0)\n"
   ]
  },
  {
   "cell_type": "code",
   "execution_count": 63,
   "metadata": {},
   "outputs": [
    {
     "name": "stdout",
     "output_type": "stream",
     "text": [
      "7\n"
     ]
    }
   ],
   "source": [
    "# use np.argmax to get label with highest probability\n",
    "label0 = np.argmax(pred0)\n",
    "print(label0)"
   ]
  },
  {
   "cell_type": "code",
   "execution_count": 55,
   "metadata": {},
   "outputs": [
    {
     "name": "stdout",
     "output_type": "stream",
     "text": [
      "tf.Tensor(\n",
      "[2.9420546e-11 1.5709913e-11 3.0222597e-07 1.2155355e-05 5.6226820e-16\n",
      " 6.7625577e-10 1.7438933e-16 9.9998736e-01 2.0155486e-09 8.5693507e-08], shape=(10,), dtype=float32)\n",
      "7\n"
     ]
    }
   ],
   "source": [
    "# 2. option: original model + nn.softmax, call model(x)\n",
    "predictions = model(x_test)\n",
    "predictions = tf.nn.softmax(predictions)\n",
    "pred0 = predictions[0]\n",
    "print(pred0)\n",
    "label0 = np.argmax(pred0)\n",
    "print(label0)"
   ]
  },
  {
   "cell_type": "code",
   "execution_count": 56,
   "metadata": {},
   "outputs": [
    {
     "name": "stdout",
     "output_type": "stream",
     "text": [
      "tf.Tensor(\n",
      "[2.9420546e-11 1.5709913e-11 3.0222597e-07 1.2155355e-05 5.6226820e-16\n",
      " 6.7625577e-10 1.7438933e-16 9.9998736e-01 2.0155486e-09 8.5693507e-08], shape=(10,), dtype=float32)\n",
      "7\n"
     ]
    }
   ],
   "source": [
    "# 3. option: original model + nn.softmax, call model.predict(x)\n",
    "predictions = model.predict(x_test, batch_size=batch_size)\n",
    "predictions = tf.nn.softmax(predictions)\n",
    "pred0 = predictions[0]\n",
    "print(pred0)\n",
    "label0 = np.argmax(pred0)\n",
    "print(label0)"
   ]
  },
  {
   "cell_type": "code",
   "execution_count": 64,
   "metadata": {},
   "outputs": [
    {
     "name": "stdout",
     "output_type": "stream",
     "text": [
      "(5, 10)\n",
      "[7 2 1 0 4]\n"
     ]
    }
   ],
   "source": [
    "# call argmax for multiple labels\n",
    "pred05s = predictions[0:5]\n",
    "print(pred05s.shape)\n",
    "label05s = np.argmax(pred05s, axis=1)\n",
    "print(label05s)"
   ]
  },
  {
   "cell_type": "code",
   "execution_count": null,
   "metadata": {},
   "outputs": [],
   "source": []
  }
 ],
 "metadata": {
  "kernelspec": {
   "display_name": "Python 3",
   "language": "python",
   "name": "python3"
  },
  "language_info": {
   "codemirror_mode": {
    "name": "ipython",
    "version": 3
   },
   "file_extension": ".py",
   "mimetype": "text/x-python",
   "name": "python",
   "nbconvert_exporter": "python",
   "pygments_lexer": "ipython3",
   "version": "3.7.9"
  }
 },
 "nbformat": 4,
 "nbformat_minor": 4
}
