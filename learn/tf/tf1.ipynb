{
 "cells": [
  {
   "cell_type": "code",
   "execution_count": 70,
   "metadata": {},
   "outputs": [],
   "source": [
    "import tensorflow as tf"
   ]
  },
  {
   "cell_type": "code",
   "execution_count": 71,
   "metadata": {},
   "outputs": [
    {
     "name": "stdout",
     "output_type": "stream",
     "text": [
      "tf.Tensor(\n",
      "[[61. 61.]\n",
      " [61. 61.]], shape=(2, 2), dtype=float64)\n"
     ]
    }
   ],
   "source": [
    "x = tf.constant(61, shape=(2,2), dtype=tf.float64)\n",
    "print(x)"
   ]
  },
  {
   "cell_type": "code",
   "execution_count": 72,
   "metadata": {},
   "outputs": [
    {
     "name": "stdout",
     "output_type": "stream",
     "text": [
      "tf.Tensor([3 5 7 9], shape=(4,), dtype=int32)\n"
     ]
    }
   ],
   "source": [
    "x = tf.constant([3,5,7,9])\n",
    "print(x)"
   ]
  },
  {
   "cell_type": "code",
   "execution_count": 73,
   "metadata": {},
   "outputs": [
    {
     "name": "stdout",
     "output_type": "stream",
     "text": [
      "tf.Tensor(\n",
      "[[1. 0. 0.]\n",
      " [0. 1. 0.]\n",
      " [0. 0. 1.]], shape=(3, 3), dtype=float32)\n"
     ]
    }
   ],
   "source": [
    "x = tf.eye(3,3)\n",
    "print(x)"
   ]
  },
  {
   "cell_type": "code",
   "execution_count": 74,
   "metadata": {},
   "outputs": [
    {
     "name": "stdout",
     "output_type": "stream",
     "text": [
      "tf.Tensor(\n",
      "[[ 6.920008  11.448095  10.41299  ]\n",
      " [13.080899  12.829942  11.34787  ]\n",
      " [ 7.2371907  8.876156  10.408758 ]], shape=(3, 3), dtype=float32)\n"
     ]
    }
   ],
   "source": [
    "x = tf.random.normal((3,3),mean=10,stddev=3)\n",
    "print(x)"
   ]
  },
  {
   "cell_type": "code",
   "execution_count": 75,
   "metadata": {},
   "outputs": [
    {
     "name": "stdout",
     "output_type": "stream",
     "text": [
      "tf.Tensor([0 2 4 6 8], shape=(5,), dtype=int32)\n"
     ]
    }
   ],
   "source": [
    "x = tf.range(0,10,2)\n",
    "print(x)"
   ]
  },
  {
   "cell_type": "code",
   "execution_count": 76,
   "metadata": {},
   "outputs": [
    {
     "name": "stdout",
     "output_type": "stream",
     "text": [
      "tf.Tensor([0. 2. 4. 6. 8.], shape=(5,), dtype=float16)\n"
     ]
    }
   ],
   "source": [
    "#casting\n",
    "x = tf.cast(x, dtype=tf.float16)\n",
    "print(x)"
   ]
  },
  {
   "cell_type": "code",
   "execution_count": 77,
   "metadata": {},
   "outputs": [
    {
     "name": "stdout",
     "output_type": "stream",
     "text": [
      "tf.Tensor([ 5  9 13 17], shape=(4,), dtype=int32)\n",
      "tf.Tensor([ 5  9 13 17], shape=(4,), dtype=int32)\n",
      "tf.Tensor([ 6 20 42 72], shape=(4,), dtype=int32)\n",
      "tf.Tensor([1.5        1.25       1.16666667 1.125     ], shape=(4,), dtype=float64)\n",
      "tf.Tensor(\n",
      "[[ 6 12 18 24]\n",
      " [10 20 30 40]\n",
      " [14 28 42 56]\n",
      " [18 36 54 72]], shape=(4, 4), dtype=int32)\n",
      "tf.Tensor(140, shape=(), dtype=int32)\n",
      "tf.Tensor([ 27 125 343 729], shape=(4,), dtype=int32)\n"
     ]
    }
   ],
   "source": [
    "#elementwise\n",
    "x = tf.constant([3,5,7,9])\n",
    "y = tf.constant([2,4,6,8])\n",
    "z = tf.add(x,y)\n",
    "print(z)\n",
    "z = x + y\n",
    "print(z)\n",
    "z = x * y\n",
    "print(z)\n",
    "z = tf.divide(x,y)\n",
    "print(z)\n",
    "z = tf.tensordot(x,y, axes=0)\n",
    "print(z)\n",
    "z = tf.tensordot(x,y, axes=1)\n",
    "print(z)\n",
    "z = x ** 3\n",
    "print(z)"
   ]
  },
  {
   "cell_type": "code",
   "execution_count": 78,
   "metadata": {},
   "outputs": [
    {
     "name": "stdout",
     "output_type": "stream",
     "text": [
      "tf.Tensor(\n",
      "[[ 0.60544014 -1.5371511  -0.15195614  0.06649014]\n",
      " [-4.015246    2.4699345   1.9113929   0.8893384 ]], shape=(2, 4), dtype=float32)\n",
      "tf.Tensor(\n",
      "[[ 0.60544014 -1.5371511  -0.15195614  0.06649014]\n",
      " [-4.015246    2.4699345   1.9113929   0.8893384 ]], shape=(2, 4), dtype=float32)\n"
     ]
    }
   ],
   "source": [
    "a = tf.random.normal((2,3))\n",
    "b = tf.random.normal((3,4))\n",
    "z = tf.matmul(a,b)\n",
    "print(z)\n",
    "z = a @ b\n",
    "print(z)"
   ]
  },
  {
   "cell_type": "code",
   "execution_count": 79,
   "metadata": {},
   "outputs": [
    {
     "name": "stdout",
     "output_type": "stream",
     "text": [
      "tf.Tensor(\n",
      "[[ 0.5831449   0.41525438]\n",
      " [-1.221415    1.6611798 ]\n",
      " [ 0.5287141  -0.9892757 ]\n",
      " [-0.1350873   0.50369096]], shape=(4, 2), dtype=float32)\n"
     ]
    }
   ],
   "source": [
    "c = tf.random.normal((4,2))\n",
    "print(c)"
   ]
  },
  {
   "cell_type": "code",
   "execution_count": 80,
   "metadata": {},
   "outputs": [
    {
     "data": {
      "text/plain": [
       "<tf.Tensor: shape=(2,), dtype=float32, numpy=array([-1.221415 ,  1.6611798], dtype=float32)>"
      ]
     },
     "execution_count": 80,
     "metadata": {},
     "output_type": "execute_result"
    }
   ],
   "source": [
    "c[1]"
   ]
  },
  {
   "cell_type": "code",
   "execution_count": 81,
   "metadata": {},
   "outputs": [
    {
     "data": {
      "text/plain": [
       "<tf.Tensor: shape=(2,), dtype=float32, numpy=array([0.5831449 , 0.41525438], dtype=float32)>"
      ]
     },
     "execution_count": 81,
     "metadata": {},
     "output_type": "execute_result"
    }
   ],
   "source": [
    "c[0,:]"
   ]
  },
  {
   "cell_type": "code",
   "execution_count": 82,
   "metadata": {},
   "outputs": [
    {
     "data": {
      "text/plain": [
       "<tf.Tensor: shape=(4,), dtype=float32, numpy=array([ 0.41525438,  1.6611798 , -0.9892757 ,  0.50369096], dtype=float32)>"
      ]
     },
     "execution_count": 82,
     "metadata": {},
     "output_type": "execute_result"
    }
   ],
   "source": [
    "c[:,1]"
   ]
  },
  {
   "cell_type": "code",
   "execution_count": 83,
   "metadata": {},
   "outputs": [
    {
     "data": {
      "text/plain": [
       "<tf.Tensor: shape=(2, 2, 2), dtype=float32, numpy=\n",
       "array([[[ 0.5831449 ,  0.41525438],\n",
       "        [-1.221415  ,  1.6611798 ]],\n",
       "\n",
       "       [[ 0.5287141 , -0.9892757 ],\n",
       "        [-0.1350873 ,  0.50369096]]], dtype=float32)>"
      ]
     },
     "execution_count": 83,
     "metadata": {},
     "output_type": "execute_result"
    }
   ],
   "source": [
    "tf.reshape(c,(2,2,2))"
   ]
  },
  {
   "cell_type": "code",
   "execution_count": 84,
   "metadata": {},
   "outputs": [
    {
     "data": {
      "text/plain": [
       "<tf.Tensor: shape=(4, 2), dtype=float32, numpy=\n",
       "array([[ 0.5831449 ,  0.41525438],\n",
       "       [-1.221415  ,  1.6611798 ],\n",
       "       [ 0.5287141 , -0.9892757 ],\n",
       "       [-0.1350873 ,  0.50369096]], dtype=float32)>"
      ]
     },
     "execution_count": 84,
     "metadata": {},
     "output_type": "execute_result"
    }
   ],
   "source": [
    "tf.reshape(c,(-1,2))"
   ]
  },
  {
   "cell_type": "code",
   "execution_count": 85,
   "metadata": {},
   "outputs": [
    {
     "name": "stdout",
     "output_type": "stream",
     "text": [
      "<class 'numpy.ndarray'>\n",
      "<class 'tensorflow.python.framework.ops.EagerTensor'>\n"
     ]
    }
   ],
   "source": [
    "c = c.numpy()\n",
    "print(type(c))\n",
    "c = tf.convert_to_tensor(c)\n",
    "print(type(c))"
   ]
  },
  {
   "cell_type": "code",
   "execution_count": 87,
   "metadata": {},
   "outputs": [
    {
     "name": "stdout",
     "output_type": "stream",
     "text": [
      "<tf.Variable 'Variable:0' shape=(3,) dtype=int32, numpy=array([2, 3, 4])>\n"
     ]
    }
   ],
   "source": [
    "d = tf.Variable([2,3,4])\n",
    "print(d)"
   ]
  },
  {
   "cell_type": "code",
   "execution_count": null,
   "metadata": {},
   "outputs": [],
   "source": []
  }
 ],
 "metadata": {
  "kernelspec": {
   "display_name": "Python 3",
   "language": "python",
   "name": "python3"
  },
  "language_info": {
   "codemirror_mode": {
    "name": "ipython",
    "version": 3
   },
   "file_extension": ".py",
   "mimetype": "text/x-python",
   "name": "python",
   "nbconvert_exporter": "python",
   "pygments_lexer": "ipython3",
   "version": "3.7.9"
  }
 },
 "nbformat": 4,
 "nbformat_minor": 4
}
